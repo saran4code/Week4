{
  "nbformat": 4,
  "nbformat_minor": 0,
  "metadata": {
    "colab": {
      "name": "Untitled3.ipynb",
      "provenance": []
    },
    "kernelspec": {
      "name": "python3",
      "display_name": "Python 3"
    }
  },
  "cells": [
    {
      "cell_type": "markdown",
      "metadata": {
        "id": "K6azFogra9yY",
        "colab_type": "text"
      },
      "source": [
        "# Capstone Project - The Battle of the Neighborhoods - Week 4 (Introduction)\n",
        "\n",
        "### Applied Data Science Capstone by IBM/Coursera"
      ]
    },
    {
      "cell_type": "markdown",
      "metadata": {
        "id": "Slf3YWZAa3G6",
        "colab_type": "text"
      },
      "source": [
        "## Introduction: Business Problem"
      ]
    },
    {
      "cell_type": "markdown",
      "metadata": {
        "id": "aTerWm7Ma0_X",
        "colab_type": "text"
      },
      "source": [
        "In this project we will try to find an optimal location for a restaurant. Specifically, this report will be targeted to stakeholders interested in opening an **Indian restaurant** in **Toronto**, Canada.\n",
        "\n",
        "Since there are lots of restaurants in Toronto we will try to detect **locations that are not already crowded with restaurants**. We are also particularly interested in **areas with no Indian restaurants in vicinity**. We would also prefer locations **as close to city center as possible**, assuming that first two conditions are met. we are using **Nathan Plaza Square** as our city center of Toronto\n",
        "\n",
        "We will use our data science powers to generate a few most promissing neighborhoods based on this criteria. Advantages of each area will then be clearly expressed so that best possible final location can be chosen by stakeholders."
      ]
    }
  ]
}